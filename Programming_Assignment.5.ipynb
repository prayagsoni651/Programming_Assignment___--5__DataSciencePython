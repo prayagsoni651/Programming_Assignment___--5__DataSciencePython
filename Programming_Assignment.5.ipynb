{
 "cells": [
  {
   "cell_type": "code",
   "execution_count": 9,
   "metadata": {},
   "outputs": [
    {
     "name": "stdout",
     "output_type": "stream",
     "text": [
      "13\n"
     ]
    }
   ],
   "source": [
    "# 5.\tWrite a Python Program to Make a Simple Calculator with 4 basic \n",
    "# mathematical operations?\n",
    "\n",
    "try:\n",
    "    \n",
    "    num1 = int(input(\"Enter First Number \"))\n",
    "    num2 = int(input(\"Enter Second number \"))\n",
    "    oper = input(\"Enter Any Operator (+ , - , / , % ,*)\")\n",
    "    \n",
    "    if oper == '+':\n",
    "        print(num1 + num2)\n",
    "        \n",
    "    elif oper == '-':\n",
    "        print(num1 - num2)\n",
    "        \n",
    "    elif oper == '%':\n",
    "        print(num1 % num2)\n",
    "        \n",
    "    elif oper == '*':\n",
    "        print(num1 * num2)\n",
    "        \n",
    "    else:\n",
    "        print(\"Invalid Input \")\n",
    "        \n",
    "except Exception as e:\n",
    "    print(\"This is Wrong input\")"
   ]
  },
  {
   "cell_type": "code",
   "execution_count": 4,
   "metadata": {},
   "outputs": [
    {
     "name": "stdout",
     "output_type": "stream",
     "text": [
      "106\n"
     ]
    }
   ],
   "source": [
    "# 4. Write a Python Program To Find ASCII value of a character?\n",
    "\n",
    "a = input(\"Enter any number and get its ASCII Value\")\n",
    "\n",
    "print(ord(a))"
   ]
  },
  {
   "cell_type": "code",
   "execution_count": 5,
   "metadata": {},
   "outputs": [
    {
     "name": "stdout",
     "output_type": "stream",
     "text": [
      "binary  = \n",
      "0b10\n",
      "octal =\n",
      "0o2\n",
      "hexadecimal = \n",
      "0x2\n"
     ]
    }
   ],
   "source": [
    "# 3. Write a Python Program to Convert Decimal to \n",
    "# Binary, Octal and Hexadecimal?\n",
    "\n",
    "num = int(input(\"Enter any number\"))\n",
    "\n",
    "biary = bin(num)\n",
    "octal = oct(num)\n",
    "Hexadecimal = hex(num)\n",
    "\n",
    "print(\"binary  = \",biary, \"octal =\", octal , \"hexadecimal = \" ,Hexadecimal , sep = \"\\n\")"
   ]
  },
  {
   "cell_type": "code",
   "execution_count": 11,
   "metadata": {},
   "outputs": [
    {
     "name": "stdout",
     "output_type": "stream",
     "text": [
      "The HCF of  12  and  12  is: 12\n"
     ]
    }
   ],
   "source": [
    "# 2. Write a Python Program to Find HCF?\n",
    "\n",
    "\n",
    "def find_hcf(num1, num2):\n",
    "    smaller = min(num1, num2)\n",
    "\n",
    "    for i in range(1, smaller + 1):\n",
    "        if num1 % i == 0 and num2 % i == 0:\n",
    "            hcf = i\n",
    "\n",
    "    return hcf\n",
    "\n",
    "\n",
    "number1 = int(input(\"Enter the first number: \"))\n",
    "number2 = int(input(\"Enter the second number: \"))\n",
    "\n",
    "\n",
    "result = find_hcf(number1, number2)\n",
    "print(\"The HCF of \",number1,\" and \",number2,\" is:\", result)\n",
    "\n",
    "\n"
   ]
  },
  {
   "cell_type": "code",
   "execution_count": 12,
   "metadata": {},
   "outputs": [
    {
     "name": "stdout",
     "output_type": "stream",
     "text": [
      "your answer is  0.3270612121580948\n"
     ]
    }
   ],
   "source": [
    "# solved Equation \n",
    "\n",
    "x = input(\"type your equation here : \")\n",
    "print(\"your answer is \",eval(x))"
   ]
  },
  {
   "cell_type": "code",
   "execution_count": 13,
   "metadata": {},
   "outputs": [
    {
     "name": "stdout",
     "output_type": "stream",
     "text": [
      "The LCM of 23 and 12 is: 276\n"
     ]
    }
   ],
   "source": [
    "# 1. Write a Python Program to Find LCM?\n",
    "\n",
    "def gcd(x, y):\n",
    "    while y:\n",
    "        x, y = y, x % y\n",
    "    return x\n",
    "\n",
    "def lcm(x, y):\n",
    "    return (x * y) // gcd(x, y)\n",
    "\n",
    "\n",
    "num1 = int(input(\"Enter the first number: \"))\n",
    "num2 = int(input(\"Enter the second number: \"))\n",
    "\n",
    "result = lcm(num1, num2)\n",
    "\n",
    "print(f\"The LCM of {num1} and {num2} is: {result}\")\n",
    "\n"
   ]
  },
  {
   "cell_type": "code",
   "execution_count": null,
   "metadata": {},
   "outputs": [],
   "source": []
  }
 ],
 "metadata": {
  "kernelspec": {
   "display_name": "base",
   "language": "python",
   "name": "python3"
  },
  "language_info": {
   "codemirror_mode": {
    "name": "ipython",
    "version": 3
   },
   "file_extension": ".py",
   "mimetype": "text/x-python",
   "name": "python",
   "nbconvert_exporter": "python",
   "pygments_lexer": "ipython3",
   "version": "3.11.4"
  }
 },
 "nbformat": 4,
 "nbformat_minor": 2
}
